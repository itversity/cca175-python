{
 "cells": [
  {
   "cell_type": "markdown",
   "metadata": {},
   "source": [
    "# Windowing Functions\n",
    "\n",
    "As part of this module let us get into Windowing Functions."
   ]
  },
  {
   "cell_type": "markdown",
   "metadata": {},
   "source": [
    "## Starting Spark Context\n",
    "\n",
    "Let us start spark context for this Notebook so that we can execute the code provided."
   ]
  },
  {
   "cell_type": "code",
   "execution_count": 1,
   "metadata": {},
   "outputs": [],
   "source": [
    "from pyspark.sql import SparkSession\n",
    "\n",
    "spark = SparkSession. \\\n",
    "    builder. \\\n",
    "    config('spark.ui.port', '0'). \\\n",
    "    appName('Windowing Functions'). \\\n",
    "    master('yarn'). \\\n",
    "    getOrCreate()"
   ]
  },
  {
   "cell_type": "code",
   "execution_count": 2,
   "metadata": {},
   "outputs": [],
   "source": [
    "spark.conf.set('spark.sql.shuffle.partitions', '2')"
   ]
  },
  {
   "cell_type": "markdown",
   "metadata": {},
   "source": [
    "## Overview of Windowing Functions\n",
    "\n",
    "Let us get an overview of Windowing Functions.\n",
    "\n",
    " * First let us understand relevance of these functions using `employees` data set."
   ]
  },
  {
   "cell_type": "code",
   "execution_count": 3,
   "metadata": {},
   "outputs": [],
   "source": [
    "employeesPath = '/public/hr_db/employees'"
   ]
  },
  {
   "cell_type": "code",
   "execution_count": 4,
   "metadata": {},
   "outputs": [],
   "source": [
    "employees = spark. \\\n",
    "    read. \\\n",
    "    format('csv'). \\\n",
    "    option('sep', '\\t'). \\\n",
    "    schema('''employee_id INT, \n",
    "              first_name STRING, \n",
    "              last_name STRING, \n",
    "              email STRING,\n",
    "              phone_number STRING, \n",
    "              hire_date STRING, \n",
    "              job_id STRING, \n",
    "              salary FLOAT,\n",
    "              commission_pct STRING,\n",
    "              manager_id STRING, \n",
    "              department_id STRING\n",
    "            '''). \\\n",
    "    load(employeesPath)"
   ]
  },
  {
   "cell_type": "code",
   "execution_count": 7,
   "metadata": {},
   "outputs": [
    {
     "name": "stdout",
     "output_type": "stream",
     "text": [
      "+-----------+-------------+-------+\n",
      "|employee_id|department_id| salary|\n",
      "+-----------+-------------+-------+\n",
      "|        178|         null| 7000.0|\n",
      "|        200|           10| 4400.0|\n",
      "|        202|           20| 6000.0|\n",
      "|        201|           20|13000.0|\n",
      "|        119|           30| 2500.0|\n",
      "|        118|           30| 2600.0|\n",
      "|        117|           30| 2800.0|\n",
      "|        116|           30| 2900.0|\n",
      "|        115|           30| 3100.0|\n",
      "|        114|           30|11000.0|\n",
      "|        203|           40| 6500.0|\n",
      "|        132|           50| 2100.0|\n",
      "|        136|           50| 2200.0|\n",
      "|        128|           50| 2200.0|\n",
      "|        127|           50| 2400.0|\n",
      "|        135|           50| 2400.0|\n",
      "|        140|           50| 2500.0|\n",
      "|        144|           50| 2500.0|\n",
      "|        191|           50| 2500.0|\n",
      "|        182|           50| 2500.0|\n",
      "+-----------+-------------+-------+\n",
      "only showing top 20 rows\n",
      "\n"
     ]
    }
   ],
   "source": [
    "from pyspark.sql.functions import col\n",
    "employees. \\\n",
    "    select('employee_id', \n",
    "           col('department_id').cast('int').alias('department_id'), \n",
    "           'salary'\n",
    "          ). \\\n",
    "    orderBy('department_id', 'salary'). \\\n",
    "    show()"
   ]
  },
  {
   "cell_type": "markdown",
   "metadata": {},
   "source": [
    "* Let us say we want to compare individual salary with department wise salary expense.\n",
    "* Here is one of the approach which require self join.\n",
    "  * Compute department wise expense usig `groupBy` and `agg`.\n",
    "  * Join with **employees** again on department_id."
   ]
  },
  {
   "cell_type": "code",
   "execution_count": 9,
   "metadata": {},
   "outputs": [],
   "source": [
    "from pyspark.sql.functions import sum, col"
   ]
  },
  {
   "cell_type": "code",
   "execution_count": 10,
   "metadata": {},
   "outputs": [],
   "source": [
    "department_expense = employees. \\\n",
    "    groupBy('department_id'). \\\n",
    "    agg(sum('salary').alias('expense'))"
   ]
  },
  {
   "cell_type": "code",
   "execution_count": 11,
   "metadata": {},
   "outputs": [
    {
     "name": "stdout",
     "output_type": "stream",
     "text": [
      "+-------------+--------+\n",
      "|department_id| expense|\n",
      "+-------------+--------+\n",
      "|           80|304500.0|\n",
      "|           90| 58000.0|\n",
      "|           60| 28800.0|\n",
      "|           20| 19000.0|\n",
      "|           70| 10000.0|\n",
      "|          110| 20300.0|\n",
      "|          100| 51600.0|\n",
      "|           30| 24900.0|\n",
      "|           50|156400.0|\n",
      "|           10|  4400.0|\n",
      "|           40|  6500.0|\n",
      "|         null|  7000.0|\n",
      "+-------------+--------+\n",
      "\n"
     ]
    }
   ],
   "source": [
    "department_expense.show()"
   ]
  },
  {
   "cell_type": "code",
   "execution_count": 12,
   "metadata": {},
   "outputs": [
    {
     "name": "stdout",
     "output_type": "stream",
     "text": [
      "+-----------+-------------+-------+-------------+--------+\n",
      "|employee_id|department_id| salary|department_id| expense|\n",
      "+-----------+-------------+-------+-------------+--------+\n",
      "|        200|           10| 4400.0|           10|  4400.0|\n",
      "|        113|          100| 6900.0|          100| 51600.0|\n",
      "|        111|          100| 7700.0|          100| 51600.0|\n",
      "|        112|          100| 7800.0|          100| 51600.0|\n",
      "|        110|          100| 8200.0|          100| 51600.0|\n",
      "|        109|          100| 9000.0|          100| 51600.0|\n",
      "|        108|          100|12000.0|          100| 51600.0|\n",
      "|        206|          110| 8300.0|          110| 20300.0|\n",
      "|        205|          110|12000.0|          110| 20300.0|\n",
      "|        202|           20| 6000.0|           20| 19000.0|\n",
      "|        201|           20|13000.0|           20| 19000.0|\n",
      "|        119|           30| 2500.0|           30| 24900.0|\n",
      "|        118|           30| 2600.0|           30| 24900.0|\n",
      "|        117|           30| 2800.0|           30| 24900.0|\n",
      "|        116|           30| 2900.0|           30| 24900.0|\n",
      "|        115|           30| 3100.0|           30| 24900.0|\n",
      "|        114|           30|11000.0|           30| 24900.0|\n",
      "|        203|           40| 6500.0|           40|  6500.0|\n",
      "|        132|           50| 2100.0|           50|156400.0|\n",
      "|        128|           50| 2200.0|           50|156400.0|\n",
      "+-----------+-------------+-------+-------------+--------+\n",
      "only showing top 20 rows\n",
      "\n"
     ]
    }
   ],
   "source": [
    "employees. \\\n",
    "    select('employee_id', 'department_id', 'salary'). \\\n",
    "    join(department_expense, employees.department_id == department_expense.department_id). \\\n",
    "    orderBy(employees.department_id, col('salary')). \\\n",
    "    show()"
   ]
  },
  {
   "cell_type": "markdown",
   "metadata": {},
   "source": [
    " **However, using this approach is not very efficient and also overly complicated. Windowing functions actually simplify the logic and also runs efficiently**\n",
    " \n",
    "Now let us get into the details related to Windowing functions.\n",
    " * Main package `pyspark.sql.window`\n",
    " * It has classes such as `Window` and `WindowSpec`\n",
    " * `Window` have APIs such as `partitionBy`, `orderBy` etc\n",
    " * These APIs (such as `partitionBy`) return `WindowSpec` object. We can pass `WindowSpec` object to over on functions such as `rank()`, `dense_rank()`, `sum()` etc\n",
    " * Syntax: `sum().over(spec)` where `spec = Window.partitionBy('ColumnName')`"
   ]
  },
  {
   "cell_type": "markdown",
   "metadata": {},
   "source": [
    "| Functions        | API or Function      |\n",
    "| ------------- |:-------------:|\n",
    "| Aggregate Functions      | <ul><li>sum</li><li>avg</li><li>min</li><li>max</li></ul> |\n",
    "| Ranking Functions      | <ul><li>rank</li><li>dense_rank</li></ul><ul><li>percent_rank</li><li>row_number</li> <li>ntile</li></ul> |\n",
    "| Analytic Functions      | <ul><li>cume_dist</li><li>first</li><li>last</li><li>lead</li> <li>lag</li></ul> |"
   ]
  },
  {
   "cell_type": "markdown",
   "metadata": {},
   "source": [
    "## Aggregate Functions\n",
    "\n",
    "Let us see how to perform aggregations within each group while projecting the raw data that is used to perform the aggregation.\n",
    "\n",
    " * We have functions such as `sum`, `avg`, `min`, `max` etc which can be used to aggregate the data.\n",
    " * We need to create `WindowSpec` object using `partitionBy` to get aggregations within each group.\n",
    " * Typically we don’t need to sort the data to perform aggregations, however if we want to perform cumulative aggregations using rowsBetween, then we have to sort the data using cumulative criteria.\n",
    " * Let us try to get total departure delay, minimum departure delay, maximum departure delay and average departure delay for each day for each airport. We will ignore all those flights which are departured early or ontime."
   ]
  },
  {
   "cell_type": "code",
   "execution_count": 13,
   "metadata": {},
   "outputs": [],
   "source": [
    "airlines_path = \"/public/airlines_all/airlines-part/flightmonth=200801\""
   ]
  },
  {
   "cell_type": "code",
   "execution_count": 14,
   "metadata": {},
   "outputs": [],
   "source": [
    "airlines = spark. \\\n",
    "  read. \\\n",
    "  parquet(airlines_path)"
   ]
  },
  {
   "cell_type": "code",
   "execution_count": 15,
   "metadata": {},
   "outputs": [],
   "source": [
    "from pyspark.sql.functions import col, lit, lpad, concat"
   ]
  },
  {
   "cell_type": "code",
   "execution_count": 16,
   "metadata": {},
   "outputs": [],
   "source": [
    "from pyspark.sql.functions import min, max, sum, avg"
   ]
  },
  {
   "cell_type": "code",
   "execution_count": 17,
   "metadata": {},
   "outputs": [],
   "source": [
    "from pyspark.sql.window import Window"
   ]
  },
  {
   "cell_type": "code",
   "execution_count": 18,
   "metadata": {},
   "outputs": [
    {
     "name": "stdout",
     "output_type": "stream",
     "text": [
      "root\n",
      " |-- Year: integer (nullable = true)\n",
      " |-- Month: integer (nullable = true)\n",
      " |-- DayofMonth: integer (nullable = true)\n",
      " |-- DayOfWeek: integer (nullable = true)\n",
      " |-- DepTime: string (nullable = true)\n",
      " |-- CRSDepTime: integer (nullable = true)\n",
      " |-- ArrTime: string (nullable = true)\n",
      " |-- CRSArrTime: integer (nullable = true)\n",
      " |-- UniqueCarrier: string (nullable = true)\n",
      " |-- FlightNum: integer (nullable = true)\n",
      " |-- TailNum: string (nullable = true)\n",
      " |-- ActualElapsedTime: string (nullable = true)\n",
      " |-- CRSElapsedTime: integer (nullable = true)\n",
      " |-- AirTime: string (nullable = true)\n",
      " |-- ArrDelay: string (nullable = true)\n",
      " |-- DepDelay: string (nullable = true)\n",
      " |-- Origin: string (nullable = true)\n",
      " |-- Dest: string (nullable = true)\n",
      " |-- Distance: string (nullable = true)\n",
      " |-- TaxiIn: string (nullable = true)\n",
      " |-- TaxiOut: string (nullable = true)\n",
      " |-- Cancelled: integer (nullable = true)\n",
      " |-- CancellationCode: string (nullable = true)\n",
      " |-- Diverted: integer (nullable = true)\n",
      " |-- CarrierDelay: string (nullable = true)\n",
      " |-- WeatherDelay: string (nullable = true)\n",
      " |-- NASDelay: string (nullable = true)\n",
      " |-- SecurityDelay: string (nullable = true)\n",
      " |-- LateAircraftDelay: string (nullable = true)\n",
      " |-- IsArrDelayed: string (nullable = true)\n",
      " |-- IsDepDelayed: string (nullable = true)\n",
      "\n"
     ]
    }
   ],
   "source": [
    "airlines.printSchema()"
   ]
  },
  {
   "cell_type": "code",
   "execution_count": 19,
   "metadata": {},
   "outputs": [],
   "source": [
    "spec = Window. \\\n",
    "    partitionBy(\"FlightDate\", \"Origin\")"
   ]
  },
  {
   "cell_type": "code",
   "execution_count": 20,
   "metadata": {},
   "outputs": [
    {
     "name": "stdout",
     "output_type": "stream",
     "text": [
      "+----------+------+-------------+---------+----------+------------+--------+-----------+-----------+-----------+------------------+\n",
      "|FlightDate|Origin|UniqueCarrier|FlightNum|CRSDepTime|IsDepDelayed|DepDelay|DepDelayMin|DepDelayMax|DepDelaySum|       DepDelayAvg|\n",
      "+----------+------+-------------+---------+----------+------------+--------+-----------+-----------+-----------+------------------+\n",
      "|  20080101|   ABE|           OO|     5873|       720|         YES|       1|          1|        175|        487|            60.875|\n",
      "|  20080101|   ABE|           OH|     5457|      1720|         YES|      14|          1|        175|        487|            60.875|\n",
      "|  20080101|   ABE|           XE|     2578|      1410|         YES|      22|          1|        175|        487|            60.875|\n",
      "|  20080101|   ABE|           9E|     2936|      1615|         YES|      34|          1|        175|        487|            60.875|\n",
      "|  20080101|   ABE|           XE|     2594|      1740|         YES|      34|          1|        175|        487|            60.875|\n",
      "|  20080101|   ABE|           9E|     2940|      1215|         YES|      70|          1|        175|        487|            60.875|\n",
      "|  20080101|   ABE|           YV|     7263|      1230|         YES|     137|          1|        175|        487|            60.875|\n",
      "|  20080101|   ABE|           YV|     7138|      1741|         YES|     175|          1|        175|        487|            60.875|\n",
      "|  20080101|   ABI|           MQ|     3214|      1735|         YES|       3|          3|          3|          3|               3.0|\n",
      "|  20080101|   ABQ|           WN|     2976|      1040|         YES|       1|          1|        218|       1580|32.916666666666664|\n",
      "|  20080101|   ABQ|           WN|      972|      1810|         YES|       1|          1|        218|       1580|32.916666666666664|\n",
      "|  20080101|   ABQ|           WN|       61|      1320|         YES|       1|          1|        218|       1580|32.916666666666664|\n",
      "|  20080101|   ABQ|           WN|     3425|      1440|         YES|       2|          1|        218|       1580|32.916666666666664|\n",
      "|  20080101|   ABQ|           WN|       88|       755|         YES|       2|          1|        218|       1580|32.916666666666664|\n",
      "|  20080101|   ABQ|           WN|     2284|      1520|         YES|       3|          1|        218|       1580|32.916666666666664|\n",
      "|  20080101|   ABQ|           XE|     2771|      1430|         YES|       3|          1|        218|       1580|32.916666666666664|\n",
      "|  20080101|   ABQ|           WN|     1493|      2020|         YES|       4|          1|        218|       1580|32.916666666666664|\n",
      "|  20080101|   ABQ|           WN|      360|      1800|         YES|       5|          1|        218|       1580|32.916666666666664|\n",
      "|  20080101|   ABQ|           WN|      644|      1725|         YES|       5|          1|        218|       1580|32.916666666666664|\n",
      "|  20080101|   ABQ|           WN|      729|      1530|         YES|       7|          1|        218|       1580|32.916666666666664|\n",
      "+----------+------+-------------+---------+----------+------------+--------+-----------+-----------+-----------+------------------+\n",
      "only showing top 20 rows\n",
      "\n"
     ]
    }
   ],
   "source": [
    "airlines. \\\n",
    "    filter(\"IsDepDelayed = 'YES' and Cancelled = 0\"). \\\n",
    "    select(concat(\"Year\", \n",
    "                  lpad(\"Month\", 2, \"0\"), \n",
    "                  lpad(\"DayOfMonth\", 2, \"0\")\n",
    "                 ).alias(\"FlightDate\"),\n",
    "           \"Origin\",\n",
    "           \"UniqueCarrier\",\n",
    "           \"FlightNum\",\n",
    "           \"CRSDepTime\",\n",
    "           \"IsDepDelayed\",\n",
    "           col(\"DepDelay\").cast(\"int\").alias(\"DepDelay\")\n",
    "          ). \\\n",
    "    withColumn(\"DepDelayMin\", min(\"DepDelay\").over(spec)). \\\n",
    "    withColumn(\"DepDelayMax\", max(\"DepDelay\").over(spec)). \\\n",
    "    withColumn(\"DepDelaySum\", sum(\"DepDelay\").over(spec)). \\\n",
    "    withColumn(\"DepDelayAvg\", avg(\"DepDelay\").over(spec)). \\\n",
    "    orderBy(\"FlightDate\", \"Origin\", \"DepDelay\"). \\\n",
    "    show()"
   ]
  },
  {
   "cell_type": "markdown",
   "metadata": {},
   "source": [
    "## Using rowsBetween and rangeBetween\n",
    "\n",
    "We can get cumulative aggregations using `rowsBetween` or `rangeBetween`.\n",
    "\n",
    "* We can use `rowsBetween` to include particular set of rows to perform aggregations.\n",
    "* We can use `rangeBetween` to include particular range of values on a given column."
   ]
  },
  {
   "cell_type": "code",
   "execution_count": 21,
   "metadata": {},
   "outputs": [],
   "source": [
    "spec = Window. \\\n",
    "    partitionBy(\"FlightDate\", \"Origin\"). \\\n",
    "    orderBy(\"CRSDepTime\"). \\\n",
    "    rowsBetween(Window.unboundedPreceding, 0)"
   ]
  },
  {
   "cell_type": "code",
   "execution_count": 22,
   "metadata": {},
   "outputs": [
    {
     "name": "stdout",
     "output_type": "stream",
     "text": [
      "+----------+------+-------------+---------+----------+------------+--------+-----------+\n",
      "|FlightDate|Origin|UniqueCarrier|FlightNum|CRSDepTime|IsDepDelayed|DepDelay|DepDelaySum|\n",
      "+----------+------+-------------+---------+----------+------------+--------+-----------+\n",
      "|  20080101|   ABE|           OO|     5873|       720|         YES|       1|          1|\n",
      "|  20080101|   ABE|           9E|     2940|      1215|         YES|      70|         71|\n",
      "|  20080101|   ABE|           YV|     7263|      1230|         YES|     137|        208|\n",
      "|  20080101|   ABE|           XE|     2578|      1410|         YES|      22|        230|\n",
      "|  20080101|   ABE|           9E|     2936|      1615|         YES|      34|        264|\n",
      "|  20080101|   ABE|           OH|     5457|      1720|         YES|      14|        278|\n",
      "|  20080101|   ABE|           XE|     2594|      1740|         YES|      34|        312|\n",
      "|  20080101|   ABE|           YV|     7138|      1741|         YES|     175|        487|\n",
      "|  20080101|   ABI|           MQ|     3214|      1735|         YES|       3|          3|\n",
      "|  20080101|   ABQ|           DL|     1601|       740|         YES|      65|         65|\n",
      "|  20080101|   ABQ|           WN|       88|       755|         YES|       2|         67|\n",
      "|  20080101|   ABQ|           UA|      782|       805|         YES|      48|        115|\n",
      "|  20080101|   ABQ|           AA|     1814|       925|         YES|     100|        215|\n",
      "|  20080101|   ABQ|           WN|     2976|      1040|         YES|       1|        216|\n",
      "|  20080101|   ABQ|           WN|     1185|      1140|         YES|       9|        225|\n",
      "|  20080101|   ABQ|           WN|     1297|      1155|         YES|      12|        237|\n",
      "|  20080101|   ABQ|           WN|     2480|      1200|         YES|      16|        253|\n",
      "|  20080101|   ABQ|           WN|      137|      1220|         YES|      10|        263|\n",
      "|  20080101|   ABQ|           WN|     1328|      1245|         YES|      78|        341|\n",
      "|  20080101|   ABQ|           WN|     3245|      1250|         YES|      24|        365|\n",
      "+----------+------+-------------+---------+----------+------------+--------+-----------+\n",
      "only showing top 20 rows\n",
      "\n"
     ]
    }
   ],
   "source": [
    "airlines. \\\n",
    "    filter(\"IsDepDelayed = 'YES' and Cancelled = 0\"). \\\n",
    "    select(concat(\"Year\", \n",
    "                  lpad(\"Month\", 2, \"0\"), \n",
    "                  lpad(\"DayOfMonth\", 2, \"0\")\n",
    "                 ).alias(\"FlightDate\"),\n",
    "           \"Origin\",\n",
    "           \"UniqueCarrier\",\n",
    "           \"FlightNum\",\n",
    "           \"CRSDepTime\",\n",
    "           \"IsDepDelayed\",\n",
    "           col(\"DepDelay\").cast(\"int\").alias(\"DepDelay\")\n",
    "          ). \\\n",
    "    withColumn(\"DepDelaySum\", sum(\"DepDelay\").over(spec)). \\\n",
    "    orderBy(\"FlightDate\", \"Origin\", \"CRSDepTime\"). \\\n",
    "    show()"
   ]
  },
  {
   "cell_type": "code",
   "execution_count": 23,
   "metadata": {},
   "outputs": [],
   "source": [
    "spec = Window. \\\n",
    "    partitionBy(\"FlightDate\", \"Origin\"). \\\n",
    "    orderBy(\"CRSDepTime\"). \\\n",
    "    rowsBetween(-3, 0)"
   ]
  },
  {
   "cell_type": "code",
   "execution_count": 24,
   "metadata": {},
   "outputs": [
    {
     "name": "stdout",
     "output_type": "stream",
     "text": [
      "+----------+------+-------------+---------+----------+------------+--------+-----------+\n",
      "|FlightDate|Origin|UniqueCarrier|FlightNum|CRSDepTime|IsDepDelayed|DepDelay|DepDelaySum|\n",
      "+----------+------+-------------+---------+----------+------------+--------+-----------+\n",
      "|  20080101|   ABE|           OO|     5873|       720|         YES|       1|          1|\n",
      "|  20080101|   ABE|           9E|     2940|      1215|         YES|      70|         71|\n",
      "|  20080101|   ABE|           YV|     7263|      1230|         YES|     137|        208|\n",
      "|  20080101|   ABE|           XE|     2578|      1410|         YES|      22|        230|\n",
      "|  20080101|   ABE|           9E|     2936|      1615|         YES|      34|        263|\n",
      "|  20080101|   ABE|           OH|     5457|      1720|         YES|      14|        207|\n",
      "|  20080101|   ABE|           XE|     2594|      1740|         YES|      34|        104|\n",
      "|  20080101|   ABE|           YV|     7138|      1741|         YES|     175|        257|\n",
      "|  20080101|   ABI|           MQ|     3214|      1735|         YES|       3|          3|\n",
      "|  20080101|   ABQ|           DL|     1601|       740|         YES|      65|         65|\n",
      "|  20080101|   ABQ|           WN|       88|       755|         YES|       2|         67|\n",
      "|  20080101|   ABQ|           UA|      782|       805|         YES|      48|        115|\n",
      "|  20080101|   ABQ|           AA|     1814|       925|         YES|     100|        215|\n",
      "|  20080101|   ABQ|           WN|     2976|      1040|         YES|       1|        151|\n",
      "|  20080101|   ABQ|           WN|     1185|      1140|         YES|       9|        158|\n",
      "|  20080101|   ABQ|           WN|     1297|      1155|         YES|      12|        122|\n",
      "|  20080101|   ABQ|           WN|     2480|      1200|         YES|      16|         38|\n",
      "|  20080101|   ABQ|           WN|      137|      1220|         YES|      10|         47|\n",
      "|  20080101|   ABQ|           WN|     1328|      1245|         YES|      78|        116|\n",
      "|  20080101|   ABQ|           WN|     3245|      1250|         YES|      24|        128|\n",
      "+----------+------+-------------+---------+----------+------------+--------+-----------+\n",
      "only showing top 20 rows\n",
      "\n"
     ]
    }
   ],
   "source": [
    "airlines. \\\n",
    "    filter(\"IsDepDelayed = 'YES' and Cancelled = 0\"). \\\n",
    "    select(concat(\"Year\", \n",
    "                  lpad(\"Month\", 2, \"0\"), \n",
    "                  lpad(\"DayOfMonth\", 2, \"0\")\n",
    "                 ).alias(\"FlightDate\"),\n",
    "           \"Origin\",\n",
    "           \"UniqueCarrier\",\n",
    "           \"FlightNum\",\n",
    "           \"CRSDepTime\",\n",
    "           \"IsDepDelayed\",\n",
    "           col(\"DepDelay\").cast(\"int\").alias(\"DepDelay\")\n",
    "          ). \\\n",
    "    withColumn(\"DepDelaySum\", sum(\"DepDelay\").over(spec)). \\\n",
    "    orderBy(\"FlightDate\", \"Origin\", \"CRSDepTime\"). \\\n",
    "    show()"
   ]
  },
  {
   "cell_type": "markdown",
   "metadata": {},
   "source": [
    "## Ranking Functions\n",
    "\n",
    "We can use ranking functions to assign ranks to a particular record within a partition.\n",
    "\n",
    "* Sparse Rank - rank\n",
    "* Dense Rank - dense_rank\n",
    "* Assigning Row Numbers - row_number\n",
    "* Percentage Rank - percent_rank"
   ]
  },
  {
   "cell_type": "markdown",
   "metadata": {},
   "source": [
    "### Tasks\n",
    "\n",
    "Let us perform few tasks related to ranking."
   ]
  },
  {
   "cell_type": "code",
   "execution_count": 28,
   "metadata": {},
   "outputs": [],
   "source": [
    "airlines_path = \"/public/airlines_all/airlines-part/flightmonth=200801\""
   ]
  },
  {
   "cell_type": "code",
   "execution_count": 29,
   "metadata": {},
   "outputs": [],
   "source": [
    "airlines = spark. \\\n",
    "    read. \\\n",
    "    parquet(airlines_path)"
   ]
  },
  {
   "cell_type": "code",
   "execution_count": 30,
   "metadata": {},
   "outputs": [],
   "source": [
    "from pyspark.sql.functions import col, lit, lpad, concat\n",
    "from pyspark.sql.functions import rank, dense_rank\n",
    "from pyspark.sql.functions import percent_rank, row_number, round\n",
    "from pyspark.sql.window import Window"
   ]
  },
  {
   "cell_type": "code",
   "execution_count": 31,
   "metadata": {},
   "outputs": [],
   "source": [
    "spec = Window. \\\n",
    "    partitionBy(\"FlightDate\", \"Origin\"). \\\n",
    "    orderBy(col(\"DepDelay\").desc())"
   ]
  },
  {
   "cell_type": "code",
   "execution_count": 32,
   "metadata": {},
   "outputs": [
    {
     "name": "stdout",
     "output_type": "stream",
     "text": [
      "+----------+------+-------------+---------+----------+------------+--------+-----+-----+-----+---+\n",
      "|FlightDate|Origin|UniqueCarrier|FlightNum|CRSDepTime|IsDepDelayed|DepDelay|srank|drank|prank| rn|\n",
      "+----------+------+-------------+---------+----------+------------+--------+-----+-----+-----+---+\n",
      "|  20080101|   ABE|           YV|     7138|      1741|         YES|     175|    1|    1|  0.0|  1|\n",
      "|  20080101|   ABE|           YV|     7263|      1230|         YES|     137|    2|    2| 0.14|  2|\n",
      "|  20080101|   ABE|           9E|     2940|      1215|         YES|      70|    3|    3| 0.29|  3|\n",
      "|  20080101|   ABE|           9E|     2936|      1615|         YES|      34|    4|    4| 0.43|  4|\n",
      "|  20080101|   ABE|           XE|     2594|      1740|         YES|      34|    4|    4| 0.43|  5|\n",
      "|  20080101|   ABE|           XE|     2578|      1410|         YES|      22|    6|    5| 0.71|  6|\n",
      "|  20080101|   ABE|           OH|     5457|      1720|         YES|      14|    7|    6| 0.86|  7|\n",
      "|  20080101|   ABE|           OO|     5873|       720|         YES|       1|    8|    7|  1.0|  8|\n",
      "|  20080101|   ABI|           MQ|     3214|      1735|         YES|       3|    1|    1|  0.0|  1|\n",
      "|  20080101|   ABQ|           WN|      823|      2045|         YES|     218|    1|    1|  0.0|  1|\n",
      "|  20080101|   ABQ|           WN|      357|      1525|         YES|     171|    2|    2| 0.02|  2|\n",
      "|  20080101|   ABQ|           AA|     1814|       925|         YES|     100|    3|    3| 0.04|  3|\n",
      "|  20080101|   ABQ|           WN|     1178|      1845|         YES|      94|    4|    4| 0.06|  4|\n",
      "|  20080101|   ABQ|           WN|     2497|      1825|         YES|      93|    5|    5| 0.09|  5|\n",
      "|  20080101|   ABQ|           WN|     3481|      1500|         YES|      78|    6|    6| 0.11|  6|\n",
      "|  20080101|   ABQ|           WN|     1328|      1245|         YES|      78|    6|    6| 0.11|  7|\n",
      "|  20080101|   ABQ|           XE|      221|      1850|         YES|      68|    8|    7| 0.15|  8|\n",
      "|  20080101|   ABQ|           DL|     1601|       740|         YES|      65|    9|    8| 0.17|  9|\n",
      "|  20080101|   ABQ|           WN|       45|      1435|         YES|      64|   10|    9| 0.19| 10|\n",
      "|  20080101|   ABQ|           WN|     2788|      1755|         YES|      53|   11|   10| 0.21| 11|\n",
      "+----------+------+-------------+---------+----------+------------+--------+-----+-----+-----+---+\n",
      "only showing top 20 rows\n",
      "\n"
     ]
    }
   ],
   "source": [
    "airlines. \\\n",
    "    filter(\"IsDepDelayed = 'YES' and Cancelled = 0\"). \\\n",
    "    select(concat(\"Year\", \n",
    "                  lpad(\"Month\", 2, \"0\"), \n",
    "                  lpad(\"DayOfMonth\", 2, \"0\")\n",
    "                 ).alias(\"FlightDate\"),\n",
    "           \"Origin\",\n",
    "           \"UniqueCarrier\",\n",
    "           \"FlightNum\",\n",
    "           \"CRSDepTime\",\n",
    "           \"IsDepDelayed\",\n",
    "           col(\"DepDelay\").cast(\"int\").alias(\"DepDelay\")\n",
    "          ). \\\n",
    "    withColumn(\"srank\", rank().over(spec)). \\\n",
    "    withColumn(\"drank\", dense_rank().over(spec)). \\\n",
    "    withColumn(\"prank\", round(percent_rank().over(spec), 2)). \\\n",
    "    withColumn(\"rn\", row_number().over(spec)). \\\n",
    "    orderBy(\"FlightDate\", \"Origin\", col(\"DepDelay\").desc()). \\\n",
    "    show()"
   ]
  },
  {
   "cell_type": "markdown",
   "metadata": {},
   "source": [
    "## Analytic Functions\n",
    "\n",
    "We can use Analytic Functions to compare current record with previous record or next record.\n",
    "* `lead` and `lag` are the main functions.\n",
    "* We can also compare each of the day of one week with corresponding day of another week.\n",
    "* `lead` and `lag` serve the same purpose. Depending up on the requirement and sorting of the data we can use either of them.\n",
    "* Here the examples are demonstrated using `lead`. Same can be achieved using `lag` however while defining the spec we have sort the data with in window in descending order to get similar results.\n",
    "* Also we can use `first` and `last` functions to get first or last value with in each group or partition based up on sorting criteria. They are typically used to get the details about other fields (for example, we can get employee name or id who is making highest or lowest salary with in a department)."
   ]
  },
  {
   "cell_type": "markdown",
   "metadata": {},
   "source": [
    "### Using LEAD"
   ]
  },
  {
   "cell_type": "code",
   "execution_count": 33,
   "metadata": {},
   "outputs": [],
   "source": [
    "airlines_path = \"/public/airlines_all/airlines-part/flightmonth=200801\""
   ]
  },
  {
   "cell_type": "code",
   "execution_count": 34,
   "metadata": {},
   "outputs": [],
   "source": [
    "airlines = spark. \\\n",
    "  read. \\\n",
    "  parquet(airlines_path)"
   ]
  },
  {
   "cell_type": "code",
   "execution_count": 35,
   "metadata": {},
   "outputs": [],
   "source": [
    "from pyspark.sql.functions import col, lit, lpad, concat"
   ]
  },
  {
   "cell_type": "code",
   "execution_count": 36,
   "metadata": {},
   "outputs": [],
   "source": [
    "from pyspark.sql.functions import lead"
   ]
  },
  {
   "cell_type": "code",
   "execution_count": 37,
   "metadata": {},
   "outputs": [],
   "source": [
    "from pyspark.sql.window import Window"
   ]
  },
  {
   "cell_type": "code",
   "execution_count": 38,
   "metadata": {},
   "outputs": [],
   "source": [
    "spec = Window. \\\n",
    "    partitionBy(\"FlightDate\", \"Origin\"). \\\n",
    "    orderBy(col(\"CRSDepTime\"))"
   ]
  },
  {
   "cell_type": "code",
   "execution_count": 39,
   "metadata": {},
   "outputs": [
    {
     "name": "stdout",
     "output_type": "stream",
     "text": [
      "+----------+------+-------------+---------+----------+------------+--------+-----------------+-------------+--------------+------------+\n",
      "|FlightDate|Origin|UniqueCarrier|FlightNum|CRSDepTime|IsDepDelayed|DepDelay|LeadUniqueCarrier|LeadFlightNum|LeadCRSDepTime|LeadDepDelay|\n",
      "+----------+------+-------------+---------+----------+------------+--------+-----------------+-------------+--------------+------------+\n",
      "|  20080101|   ABE|           OO|     5873|       720|         YES|       1|               9E|         2940|          1215|          70|\n",
      "|  20080101|   ABE|           9E|     2940|      1215|         YES|      70|               YV|         7263|          1230|         137|\n",
      "|  20080101|   ABE|           YV|     7263|      1230|         YES|     137|               XE|         2578|          1410|          22|\n",
      "|  20080101|   ABE|           XE|     2578|      1410|         YES|      22|               9E|         2936|          1615|          34|\n",
      "|  20080101|   ABE|           9E|     2936|      1615|         YES|      34|               OH|         5457|          1720|          14|\n",
      "|  20080101|   ABE|           OH|     5457|      1720|         YES|      14|               XE|         2594|          1740|          34|\n",
      "|  20080101|   ABE|           XE|     2594|      1740|         YES|      34|               YV|         7138|          1741|         175|\n",
      "|  20080101|   ABE|           YV|     7138|      1741|         YES|     175|             null|         null|          null|        null|\n",
      "|  20080101|   ABI|           MQ|     3214|      1735|         YES|       3|             null|         null|          null|        null|\n",
      "|  20080101|   ABQ|           DL|     1601|       740|         YES|      65|               WN|           88|           755|           2|\n",
      "|  20080101|   ABQ|           WN|       88|       755|         YES|       2|               UA|          782|           805|          48|\n",
      "|  20080101|   ABQ|           UA|      782|       805|         YES|      48|               AA|         1814|           925|         100|\n",
      "|  20080101|   ABQ|           AA|     1814|       925|         YES|     100|               WN|         2976|          1040|           1|\n",
      "|  20080101|   ABQ|           WN|     2976|      1040|         YES|       1|               WN|         1185|          1140|           9|\n",
      "|  20080101|   ABQ|           WN|     1185|      1140|         YES|       9|               WN|         1297|          1155|          12|\n",
      "|  20080101|   ABQ|           WN|     1297|      1155|         YES|      12|               WN|         2480|          1200|          16|\n",
      "|  20080101|   ABQ|           WN|     2480|      1200|         YES|      16|               WN|          137|          1220|          10|\n",
      "|  20080101|   ABQ|           WN|      137|      1220|         YES|      10|               WN|         1328|          1245|          78|\n",
      "|  20080101|   ABQ|           WN|     1328|      1245|         YES|      78|               WN|         3245|          1250|          24|\n",
      "|  20080101|   ABQ|           WN|     3245|      1250|         YES|      24|               WN|           61|          1320|           1|\n",
      "+----------+------+-------------+---------+----------+------------+--------+-----------------+-------------+--------------+------------+\n",
      "only showing top 20 rows\n",
      "\n"
     ]
    }
   ],
   "source": [
    "airlines. \\\n",
    "    filter(\"IsDepDelayed = 'YES' and Cancelled = 0\"). \\\n",
    "    select(concat(\"Year\", \n",
    "                  lpad(\"Month\", 2, \"0\"), \n",
    "                  lpad(\"DayOfMonth\", 2, \"0\")\n",
    "                 ).alias(\"FlightDate\"),\n",
    "           \"Origin\",\n",
    "           \"UniqueCarrier\",\n",
    "           \"FlightNum\",\n",
    "           \"CRSDepTime\",\n",
    "           \"IsDepDelayed\",\n",
    "           col(\"DepDelay\").cast(\"int\").alias(\"DepDelay\")\n",
    "          ). \\\n",
    "    withColumn(\"LeadUniqueCarrier\", lead(\"UniqueCarrier\").over(spec)). \\\n",
    "    withColumn(\"LeadFlightNum\", lead(\"FlightNum\").over(spec)). \\\n",
    "    withColumn(\"LeadCRSDepTime\", lead(\"CRSDepTime\").over(spec)). \\\n",
    "    withColumn(\"LeadDepDelay\", lead(\"DepDelay\").over(spec)). \\\n",
    "    orderBy(\"FlightDate\", \"Origin\", \"CRSDepTime\"). \\\n",
    "    show()"
   ]
  },
  {
   "cell_type": "markdown",
   "metadata": {},
   "source": [
    "### Using LEAD with 7"
   ]
  },
  {
   "cell_type": "code",
   "execution_count": 42,
   "metadata": {},
   "outputs": [],
   "source": [
    "airlines_path = \"/public/airlines_all/airlines-part/flightmonth=200801\""
   ]
  },
  {
   "cell_type": "code",
   "execution_count": 43,
   "metadata": {},
   "outputs": [],
   "source": [
    "airlines = spark. \\\n",
    "    read. \\\n",
    "    parquet(airlines_path)"
   ]
  },
  {
   "cell_type": "code",
   "execution_count": 44,
   "metadata": {},
   "outputs": [],
   "source": [
    "from pyspark.sql.functions import col, lit, lpad, concat"
   ]
  },
  {
   "cell_type": "code",
   "execution_count": 45,
   "metadata": {},
   "outputs": [],
   "source": [
    "from pyspark.sql.functions import sum, lead, substring"
   ]
  },
  {
   "cell_type": "code",
   "execution_count": 46,
   "metadata": {},
   "outputs": [],
   "source": [
    "from pyspark.sql.window import Window"
   ]
  },
  {
   "cell_type": "code",
   "execution_count": 48,
   "metadata": {},
   "outputs": [],
   "source": [
    "spec = Window. \\\n",
    "    partitionBy(substring(\"FlightDate\", 1, 6), \"Origin\"). \\\n",
    "    orderBy(\"FlightDate\", col(\"TotalDepDelay\").desc())"
   ]
  },
  {
   "cell_type": "code",
   "execution_count": 53,
   "metadata": {},
   "outputs": [
    {
     "name": "stdout",
     "output_type": "stream",
     "text": [
      "+----------+------+-------------+--------------+----------+-----------------+\n",
      "|FlightDate|Origin|TotalDepDelay|LeadFlightDate|LeadOrigin|LeadTotalDepDelay|\n",
      "+----------+------+-------------+--------------+----------+-----------------+\n",
      "|  20080101|   ORD|        49353|      20080108|       ORD|            35658|\n",
      "|  20080102|   ORD|        41545|      20080109|       ORD|            10075|\n",
      "|  20080103|   ORD|        15784|      20080110|       ORD|            18431|\n",
      "|  20080104|   ORD|        13442|      20080111|       ORD|            15372|\n",
      "|  20080105|   ORD|        23800|      20080112|       ORD|             5785|\n",
      "|  20080106|   ORD|        31148|      20080113|       ORD|             9630|\n",
      "|  20080107|   ORD|        47817|      20080114|       ORD|            24969|\n",
      "+----------+------+-------------+--------------+----------+-----------------+\n",
      "\n"
     ]
    }
   ],
   "source": [
    "airlines. \\\n",
    "    filter(\"\"\"IsDepDelayed = 'YES' \n",
    "              AND Cancelled = 0\n",
    "              AND concat(Year, \n",
    "                         lpad(Month, 2, '0'),\n",
    "                         lpad(DayOfMonth, 2, '0')\n",
    "                        ) BETWEEN 20080101 AND 20080114\n",
    "              AND Origin IN ('ATL', 'DFW', 'JFK', 'LAX', 'SFO', 'ORD')\n",
    "           \"\"\"\n",
    "          ). \\\n",
    "    groupBy(concat(\"Year\", \n",
    "                   lpad(\"Month\", 2, \"0\"), \n",
    "                   lpad(\"DayOfMonth\", 2, \"0\")\n",
    "                  ).alias(\"FlightDate\"), \n",
    "            \"Origin\"\n",
    "           ). \\\n",
    "    agg(sum(col(\"DepDelay\").cast(\"int\")).alias(\"TotalDepDelay\")). \\\n",
    "    withColumn(\"LeadFlightDate\", lead(\"FlightDate\", 7).over(spec)). \\\n",
    "    withColumn(\"LeadOrigin\", lead(\"Origin\", 7).over(spec)). \\\n",
    "    withColumn(\"LeadTotalDepDelay\", lead(\"TotalDepDelay\", 7).over(spec)). \\\n",
    "    filter('Origin = \"ORD\"'). \\\n",
    "    orderBy(\"FlightDate\", col(\"TotalDepDelay\").desc()). \\\n",
    "    show()"
   ]
  },
  {
   "cell_type": "code",
   "execution_count": 54,
   "metadata": {},
   "outputs": [
    {
     "name": "stdout",
     "output_type": "stream",
     "text": [
      "+----------+------+-------------+--------------+----------+-----------------+\n",
      "|FlightDate|Origin|TotalDepDelay|LeadFlightDate|LeadOrigin|LeadTotalDepDelay|\n",
      "+----------+------+-------------+--------------+----------+-----------------+\n",
      "|  20080101|   ORD|        49353|      20080108|       ORD|            35658|\n",
      "|  20080102|   ORD|        41545|      20080109|       ORD|            10075|\n",
      "|  20080103|   ORD|        15784|      20080110|       ORD|            18431|\n",
      "|  20080104|   ORD|        13442|      20080111|       ORD|            15372|\n",
      "|  20080105|   ORD|        23800|      20080112|       ORD|             5785|\n",
      "|  20080106|   ORD|        31148|      20080113|       ORD|             9630|\n",
      "|  20080107|   ORD|        47817|      20080114|       ORD|            24969|\n",
      "+----------+------+-------------+--------------+----------+-----------------+\n",
      "\n"
     ]
    }
   ],
   "source": [
    "airlines. \\\n",
    "    filter(\"\"\"IsDepDelayed = 'YES' \n",
    "              AND Cancelled = 0\n",
    "              AND concat(Year, \n",
    "                         lpad(Month, 2, '0'),\n",
    "                         lpad(DayOfMonth, 2, '0')\n",
    "                        ) BETWEEN 20080101 AND 20080114\n",
    "              AND Origin IN ('ATL', 'DFW', 'JFK', 'LAX', 'SFO', 'ORD')\n",
    "           \"\"\"\n",
    "          ). \\\n",
    "    groupBy(concat(\"Year\", \n",
    "                   lpad(\"Month\", 2, \"0\"), \n",
    "                   lpad(\"DayOfMonth\", 2, \"0\")\n",
    "                  ).alias(\"FlightDate\"), \n",
    "            \"Origin\"\n",
    "           ). \\\n",
    "    agg(sum(col(\"DepDelay\").cast(\"int\")).alias(\"TotalDepDelay\")). \\\n",
    "    withColumn(\"LeadFlightDate\", lead(\"FlightDate\", 7).over(spec)). \\\n",
    "    withColumn(\"LeadOrigin\", lead(\"Origin\", 7).over(spec)). \\\n",
    "    withColumn(\"LeadTotalDepDelay\", lead(\"TotalDepDelay\", 7).over(spec)). \\\n",
    "    filter('Origin = \"ORD\" AND FlightDate BETWEEN 20080101 AND 20080107'). \\\n",
    "    orderBy(\"FlightDate\", col(\"TotalDepDelay\").desc()). \\\n",
    "    show()"
   ]
  },
  {
   "cell_type": "code",
   "execution_count": 55,
   "metadata": {},
   "outputs": [
    {
     "name": "stdout",
     "output_type": "stream",
     "text": [
      "+----------+------+-------------+--------------+----------+-----------------+\n",
      "|FlightDate|Origin|TotalDepDelay|LeadFlightDate|LeadOrigin|LeadTotalDepDelay|\n",
      "+----------+------+-------------+--------------+----------+-----------------+\n",
      "|  20080101|   ORD|        49353|      20080108|       ORD|            35658|\n",
      "|  20080101|   DFW|        13741|      20080108|       DFW|             8277|\n",
      "|  20080101|   ATL|        11592|      20080108|       ATL|             9988|\n",
      "|  20080101|   LAX|        10360|      20080108|       LAX|             8767|\n",
      "|  20080101|   JFK|         6948|      20080108|       JFK|             2261|\n",
      "|  20080101|   SFO|         5359|      20080108|       SFO|            18095|\n",
      "|  20080102|   ORD|        41545|      20080109|       ORD|            10075|\n",
      "|  20080102|   ATL|        25127|      20080109|       ATL|             6404|\n",
      "|  20080102|   DFW|        12827|      20080109|       DFW|             4532|\n",
      "|  20080102|   JFK|         9734|      20080109|       JFK|             1980|\n",
      "|  20080102|   LAX|         9253|      20080109|       LAX|             4121|\n",
      "|  20080102|   SFO|         6150|      20080109|       SFO|             8033|\n",
      "|  20080103|   ATL|        22603|      20080110|       ATL|             9760|\n",
      "|  20080103|   SFO|        21957|      20080110|       SFO|            17650|\n",
      "|  20080103|   ORD|        15784|      20080110|       ORD|            18431|\n",
      "|  20080103|   LAX|        11837|      20080110|       LAX|             6327|\n",
      "|  20080103|   DFW|         9585|      20080110|       DFW|             6786|\n",
      "|  20080103|   JFK|         8031|      20080110|       JFK|             1722|\n",
      "|  20080104|   SFO|        40137|      20080111|       SFO|             8734|\n",
      "|  20080104|   LAX|        26441|      20080111|       LAX|             5852|\n",
      "+----------+------+-------------+--------------+----------+-----------------+\n",
      "only showing top 20 rows\n",
      "\n"
     ]
    }
   ],
   "source": [
    "airlines. \\\n",
    "    filter(\"\"\"IsDepDelayed = 'YES' \n",
    "              AND Cancelled = 0\n",
    "              AND concat(Year, \n",
    "                         lpad(Month, 2, '0'),\n",
    "                         lpad(DayOfMonth, 2, '0')\n",
    "                        ) BETWEEN 20080101 AND 20080114\n",
    "              AND Origin IN ('ATL', 'DFW', 'JFK', 'LAX', 'SFO', 'ORD')\n",
    "           \"\"\"\n",
    "          ). \\\n",
    "    groupBy(concat(\"Year\", \n",
    "                   lpad(\"Month\", 2, \"0\"), \n",
    "                   lpad(\"DayOfMonth\", 2, \"0\")\n",
    "                  ).alias(\"FlightDate\"), \n",
    "            \"Origin\"\n",
    "           ). \\\n",
    "    agg(sum(col(\"DepDelay\").cast(\"int\")).alias(\"TotalDepDelay\")). \\\n",
    "    withColumn(\"LeadFlightDate\", lead(\"FlightDate\", 7).over(spec)). \\\n",
    "    withColumn(\"LeadOrigin\", lead(\"Origin\", 7).over(spec)). \\\n",
    "    withColumn(\"LeadTotalDepDelay\", lead(\"TotalDepDelay\", 7).over(spec)). \\\n",
    "    filter('FlightDate BETWEEN 20080101 AND 20080107'). \\\n",
    "    orderBy(\"FlightDate\", col(\"TotalDepDelay\").desc()). \\\n",
    "    show()"
   ]
  },
  {
   "cell_type": "code",
   "execution_count": null,
   "metadata": {},
   "outputs": [],
   "source": []
  }
 ],
 "metadata": {
  "kernelspec": {
   "display_name": "Pyspark 2",
   "language": "python",
   "name": "pyspark2"
  },
  "language_info": {
   "codemirror_mode": {
    "name": "ipython",
    "version": 3
   },
   "file_extension": ".py",
   "mimetype": "text/x-python",
   "name": "python",
   "nbconvert_exporter": "python",
   "pygments_lexer": "ipython3",
   "version": "3.6.8"
  }
 },
 "nbformat": 4,
 "nbformat_minor": 4
}

{
 "cells": [
  {
   "cell_type": "markdown",
   "metadata": {},
   "source": [
    "# Quick Recap of Scala\n",
    "\n",
    "Let us quickly recap of some of the core programming concepts of Python before we get into Spark."
   ]
  },
  {
   "cell_type": "markdown",
   "metadata": {},
   "source": [
    "## Data Engineering Life Cycle\n",
    "\n",
    "Let us first understand the Data Engineering Life Cycle. We typically read the data, process it by applying business rules and write the data back to different targets\n",
    "* Read the data from different sources.\n",
    "  * Files\n",
    "  * Databases\n",
    "  * Mainframes\n",
    "  * APIs\n",
    "* Processing the data\n",
    "  * Row Level Transformations\n",
    "  * Aggregations\n",
    "  * Sorting\n",
    "  * Ranking\n",
    "  * Joining multiple data sets\n",
    "* Write data to different targets.\n",
    "  * Files\n",
    "  * Databases\n",
    "  * Mainframes\n",
    "  * APIs"
   ]
  },
  {
   "cell_type": "markdown",
   "metadata": {},
   "source": [
    "## Python CLI or Jupyter Notebook\n",
    "\n",
    "We can use Python CLI or Jupyter Notebook to explore APIs.\n",
    "\n",
    "* We can launch Python CLI using `python` command.\n",
    "* We can launch the Jupyter Notebook using the `jupyter notebook` command.\n",
    "* A web service will be started on port number 8888 by default.\n",
    "* We can go to the browser and connect to the web server using IP address and port number.\n",
    "* We should be able to explore code in interactive fashion.\n",
    "* We can issue magic commands such as %%sh to run shell commands, %%md to document using markdown etc."
   ]
  },
  {
   "cell_type": "markdown",
   "metadata": {},
   "source": [
    "### Tasks\n",
    "\n",
    "Let us perform these tasks to just recollect how to use Python CLI or Jupyter Notebook.\n",
    "* Create variables i and j assigning 10 and 20.5 respectively."
   ]
  },
  {
   "cell_type": "code",
   "execution_count": 1,
   "metadata": {},
   "outputs": [
    {
     "data": {
      "text/plain": [
       "i = 10\n",
       "j = 20.5\n"
      ]
     },
     "metadata": {},
     "output_type": "display_data",
     "source": "user"
    },
    {
     "data": {
      "text/plain": [
       "20.5"
      ]
     },
     "execution_count": 1,
     "metadata": {},
     "output_type": "execute_result"
    }
   ],
   "source": [
    "val i = 10\n",
    "val j = 20.5"
   ]
  },
  {
   "cell_type": "markdown",
   "metadata": {},
   "source": [
    "* Add the values and assign it to res."
   ]
  },
  {
   "cell_type": "code",
   "execution_count": 2,
   "metadata": {},
   "outputs": [
    {
     "data": {
      "text/plain": [
       "res = 30.5\n"
      ]
     },
     "metadata": {},
     "output_type": "display_data",
     "source": "user"
    },
    {
     "data": {
      "text/plain": [
       "30.5"
      ]
     },
     "execution_count": 2,
     "metadata": {},
     "output_type": "execute_result"
    }
   ],
   "source": [
    "val res = i + j"
   ]
  },
  {
   "cell_type": "code",
   "execution_count": 3,
   "metadata": {},
   "outputs": [
    {
     "name": "stdout",
     "output_type": "stream",
     "text": [
      "30.5\n"
     ]
    }
   ],
   "source": [
    "println(res)"
   ]
  },
  {
   "cell_type": "markdown",
   "metadata": {},
   "source": [
    "* Get the type of i, j and res."
   ]
  },
  {
   "cell_type": "markdown",
   "metadata": {},
   "source": [
    "## Basic Programming Constructs\n",
    "\n",
    "Let us recollect some of the basic programming constructs of Python.\n",
    "* Comparison Operations (==, !=, <, >, <=, >=, etc) \n",
    "  * All the comparison operators return a True or False (Boolean value)\n",
    "* Conditionals (if) \n",
    "  * We typically use comparison operators as part of conditionals.\n",
    "* Loops (for) \n",
    "  * We can iterate through collection using `for i in l` where l is a standard collection such as list or set.\n",
    "  * Python provides special function called as `range` which will return a collection of integers between the given range. It excludes the upper bound value.\n",
    "* In Python, scope is defined by indentation."
   ]
  },
  {
   "cell_type": "markdown",
   "metadata": {},
   "source": [
    "### Tasks\n",
    " \n",
    "Let us perform few tasks to quickly recap basic programming constructs of Python.\n",
    " * Get all the odd numbers between 1 and 15.\n",
    " "
   ]
  },
  {
   "cell_type": "code",
   "execution_count": 5,
   "metadata": {},
   "outputs": [
    {
     "data": {
      "text/plain": [
       "Range(1, 3, 5, 7, 9, 11, 13, 15)"
      ]
     },
     "execution_count": 5,
     "metadata": {},
     "output_type": "execute_result"
    }
   ],
   "source": [
    "(1 to 15 by 2)"
   ]
  },
  {
   "cell_type": "markdown",
   "metadata": {},
   "source": [
    "* Print all those numbers which are divisible by 3 from the above list."
   ]
  },
  {
   "cell_type": "code",
   "execution_count": 6,
   "metadata": {},
   "outputs": [
    {
     "name": "stdout",
     "output_type": "stream",
     "text": [
      "3\n",
      "9\n",
      "15\n"
     ]
    }
   ],
   "source": [
    "for (i <- (1 to 15 by 2))\n",
    "    if(i%3 == 0) println(i)"
   ]
  },
  {
   "cell_type": "markdown",
   "metadata": {},
   "source": [
    "## Developing Functions\n",
    "\n",
    "Let us understand how to develop functions using Python as programming language.\n",
    "* Function starts with `def` followed by function name.\n",
    "* Parameters can be of different types.\n",
    "    * Required\n",
    "    * Keyword\n",
    "    * Variable Number\n",
    "    * Functions\n",
    "* Functions which take another function as an argument is called higher order functions.\n",
    "\n",
    "### Tasks\n",
    "\n",
    " Let us perform few tasks to understand how to develop functions in Python.   \n",
    " \n",
    " * Sum of integers between lower bound and upper bound using formula.\n",
    "\n"
   ]
  },
  {
   "cell_type": "code",
   "execution_count": 7,
   "metadata": {},
   "outputs": [
    {
     "data": {
      "text/plain": [
       "sumOfN: (n: Int)Int\n"
      ]
     },
     "metadata": {},
     "output_type": "display_data",
     "source": "user"
    }
   ],
   "source": [
    "def sumOfN(n: Int) =\n",
    "    (n * (n + 1)) / 2"
   ]
  },
  {
   "cell_type": "code",
   "execution_count": 8,
   "metadata": {},
   "outputs": [
    {
     "data": {
      "text/plain": [
       "55"
      ]
     },
     "execution_count": 8,
     "metadata": {},
     "output_type": "execute_result"
    }
   ],
   "source": [
    "sumOfN(10)"
   ]
  },
  {
   "cell_type": "code",
   "execution_count": 10,
   "metadata": {},
   "outputs": [
    {
     "data": {
      "text/plain": [
       "sumOfIntegers: (lb: Int, ub: Int)Int\n"
      ]
     },
     "metadata": {},
     "output_type": "display_data",
     "source": "user"
    }
   ],
   "source": [
    "def sumOfIntegers(lb: Int, ub: Int) =\n",
    "    sumOfN(ub) - sumOfN(lb - 1)"
   ]
  },
  {
   "cell_type": "code",
   "execution_count": 11,
   "metadata": {},
   "outputs": [
    {
     "data": {
      "text/plain": [
       "45"
      ]
     },
     "execution_count": 11,
     "metadata": {},
     "output_type": "execute_result"
    }
   ],
   "source": [
    "sumOfIntegers(5, 10)"
   ]
  },
  {
   "cell_type": "markdown",
   "metadata": {},
   "source": [
    "* Sum of integers between lower bound and upper bound using loops."
   ]
  },
  {
   "cell_type": "code",
   "execution_count": 16,
   "metadata": {},
   "outputs": [
    {
     "data": {
      "text/plain": [
       "sumOfIntegers: (lb: Int, ub: Int)Int\n"
      ]
     },
     "metadata": {},
     "output_type": "display_data",
     "source": "user"
    }
   ],
   "source": [
    "def sumOfIntegers(lb: Int, ub: Int) = {\n",
    "    var total = 0\n",
    "    for (e <- (lb to ub))\n",
    "        total += e\n",
    "    total\n",
    "}"
   ]
  },
  {
   "cell_type": "code",
   "execution_count": 17,
   "metadata": {},
   "outputs": [
    {
     "data": {
      "text/plain": [
       "55"
      ]
     },
     "execution_count": 17,
     "metadata": {},
     "output_type": "execute_result"
    }
   ],
   "source": [
    "\n",
    "sumOfIntegers(1, 10)"
   ]
  },
  {
   "cell_type": "markdown",
   "metadata": {},
   "source": [
    "* Sum of squares of integers between lower bound and upper bound using loops."
   ]
  },
  {
   "cell_type": "code",
   "execution_count": 18,
   "metadata": {},
   "outputs": [
    {
     "data": {
      "text/plain": [
       "sumOfSquares: (lb: Int, ub: Int)Int\n"
      ]
     },
     "metadata": {},
     "output_type": "display_data",
     "source": "user"
    }
   ],
   "source": [
    "def sumOfSquares(lb: Int, ub: Int) = {\n",
    "    var total = 0\n",
    "    for (e <- (lb to ub))\n",
    "        total += e * e\n",
    "    total\n",
    "}"
   ]
  },
  {
   "cell_type": "code",
   "execution_count": 19,
   "metadata": {},
   "outputs": [
    {
     "data": {
      "text/plain": [
       "29"
      ]
     },
     "execution_count": 19,
     "metadata": {},
     "output_type": "execute_result"
    }
   ],
   "source": [
    "sumOfSquares(2, 4)"
   ]
  },
  {
   "cell_type": "markdown",
   "metadata": {},
   "source": [
    "* Sum of the even numbers between lower bound and upper bound using loops."
   ]
  },
  {
   "cell_type": "code",
   "execution_count": 20,
   "metadata": {},
   "outputs": [
    {
     "data": {
      "text/plain": [
       "sumOfEvens: (lb: Int, ub: Int)Int\n"
      ]
     },
     "metadata": {},
     "output_type": "display_data",
     "source": "user"
    }
   ],
   "source": [
    "def sumOfEvens(lb: Int, ub: Int) = {\n",
    "    var total = 0\n",
    "    for (e <- (lb to ub))\n",
    "        total += e * e\n",
    "    total\n",
    "}"
   ]
  },
  {
   "cell_type": "code",
   "execution_count": 21,
   "metadata": {},
   "outputs": [
    {
     "data": {
      "text/plain": [
       "29"
      ]
     },
     "execution_count": 21,
     "metadata": {},
     "output_type": "execute_result"
    }
   ],
   "source": [
    "sumOfEvens(2, 4)"
   ]
  },
  {
   "cell_type": "markdown",
   "metadata": {},
   "source": [
    "## Lambda Functions\n",
    "\n",
    "Let us recap details related to lambda functions.\n",
    "\n",
    "* We can develop functions with out names. They are called Lambda Functions and also known as Anonymous Functions.\n",
    "* We typically use them to pass as arguments to higher order functions which takes functions as arguments\n",
    "    "
   ]
  },
  {
   "cell_type": "markdown",
   "metadata": {},
   "source": [
    "### Tasks\n",
    "\n",
    "Let us perform few tasks related to lambda functions.\n",
    "    \n",
    "* Create a generic function mySum which is supposed to perform arithmetic using integers within a range.\n",
    "    \n",
    "    * It takes 3 arguments - lb, ub and f.\n",
    "    * Function f should be invoked inside the function on each element within the range.\n",
    "\n",
    "    "
   ]
  },
  {
   "cell_type": "code",
   "execution_count": 22,
   "metadata": {},
   "outputs": [
    {
     "data": {
      "text/plain": [
       "mySum: (lb: Int, ub: Int, f: Int => Int)Int\n"
      ]
     },
     "metadata": {},
     "output_type": "display_data",
     "source": "user"
    }
   ],
   "source": [
    "def mySum(lb: Int, ub: Int, f: Int => Int) = {\n",
    "    var total = 0\n",
    "    for (e <- (lb to ub))\n",
    "        total += f(e)\n",
    "    total    \n",
    "}"
   ]
  },
  {
   "cell_type": "markdown",
   "metadata": {},
   "source": [
    "* Sum of integers between lower bound and upper bound using mySum."
   ]
  },
  {
   "cell_type": "code",
   "execution_count": 23,
   "metadata": {},
   "outputs": [
    {
     "data": {
      "text/plain": [
       "9"
      ]
     },
     "execution_count": 23,
     "metadata": {},
     "output_type": "execute_result"
    }
   ],
   "source": [
    "mySum(2, 4, i => i)"
   ]
  },
  {
   "cell_type": "markdown",
   "metadata": {},
   "source": [
    "* Sum of squares of integers between lower bound and upper bound using mySum."
   ]
  },
  {
   "cell_type": "code",
   "execution_count": 24,
   "metadata": {},
   "outputs": [
    {
     "data": {
      "text/plain": [
       "29"
      ]
     },
     "execution_count": 24,
     "metadata": {},
     "output_type": "execute_result"
    }
   ],
   "source": [
    "mySum(2, 4, i => i * i)"
   ]
  },
  {
   "cell_type": "markdown",
   "metadata": {},
   "source": [
    "* Sum of the even numbers between lower bound and upper bound using mySum."
   ]
  },
  {
   "cell_type": "code",
   "execution_count": 25,
   "metadata": {},
   "outputs": [
    {
     "data": {
      "text/plain": [
       "6"
      ]
     },
     "execution_count": 25,
     "metadata": {},
     "output_type": "execute_result"
    }
   ],
   "source": [
    "mySum(2, 4, i => if(i%2 == 0) i else 0)"
   ]
  },
  {
   "cell_type": "markdown",
   "metadata": {},
   "source": [
    "## Overview of Collections and Tuples\n",
    "\n",
    "Let\"s quickly recap about Collections and Tuples in Python. We will primarily talk about collections and tuples that comes as part of Python standard library such as `list`, `set`,` dict` and `tuple.`\n",
    "\n",
    "* Group of elements with length and index - `list`\n",
    "* Group of unique elements - `set`\n",
    "* Group of key value pairs - `dict`\n",
    "* While list, set and dict contain group of homogeneous elements, tuple contains group of heterogeneous elements.\n",
    "* We can consider list, set and dict as a table in a database and tuple as a row or record in a given table.\n",
    "* Typically we create list of tuples or set of tuples and dict is nothing but collection of tuples with 2 elements and key is unique.\n",
    "* We typically use Map Reduce APIs to process the data in collections. There are also some pre-defined functions such as `len`, `sum`,` min`,` max` etc for aggregating data in collections."
   ]
  },
  {
   "cell_type": "markdown",
   "metadata": {},
   "source": [
    "### Tasks\n",
    "\n",
    "Let us perform few tasks to quickly recap details about Collections and Tuples in Python. We will also quickly recap about Map Reduce APIs.\n",
    "\n",
    "* Create a collection of orders by reading data from a file."
   ]
  },
  {
   "cell_type": "code",
   "execution_count": 26,
   "metadata": {},
   "outputs": [],
   "source": [
    "import sys.process._"
   ]
  },
  {
   "cell_type": "code",
   "execution_count": 27,
   "metadata": {},
   "outputs": [
    {
     "name": "stdout",
     "output_type": "stream",
     "text": [
      "-rw-r--r-- 1 root root 2999944 Feb 20  2017 /data/retail_db/orders/part-00000\n"
     ]
    },
    {
     "data": {
      "text/plain": [
       "warning: there was one feature warning; re-run with -feature for details\n"
      ]
     },
     "metadata": {},
     "output_type": "display_data",
     "source": "user"
    },
    {
     "data": {
      "text/plain": [
       "0"
      ]
     },
     "execution_count": 27,
     "metadata": {},
     "output_type": "execute_result"
    }
   ],
   "source": [
    "\"ls -ltr /data/retail_db/orders/part-00000\"!"
   ]
  },
  {
   "cell_type": "code",
   "execution_count": 42,
   "metadata": {},
   "outputs": [
    {
     "data": {
      "text/plain": [
       "ordersPath = /data/retail_db/orders/part-00000\n"
      ]
     },
     "metadata": {},
     "output_type": "display_data",
     "source": "user"
    },
    {
     "data": {
      "text/plain": [
       "/data/retail_db/orders/part-00000"
      ]
     },
     "execution_count": 42,
     "metadata": {},
     "output_type": "execute_result"
    }
   ],
   "source": [
    "val ordersPath = \"/data/retail_db/orders/part-00000\""
   ]
  },
  {
   "cell_type": "code",
   "execution_count": 43,
   "metadata": {},
   "outputs": [],
   "source": [
    "import scala.io.Source"
   ]
  },
  {
   "cell_type": "code",
   "execution_count": 44,
   "metadata": {},
   "outputs": [
    {
     "data": {
      "text/plain": [
       "orders = non-empty iterator\n"
      ]
     },
     "metadata": {},
     "output_type": "display_data",
     "source": "user"
    },
    {
     "data": {
      "text/plain": [
       "non-empty iterator"
      ]
     },
     "execution_count": 44,
     "metadata": {},
     "output_type": "execute_result"
    }
   ],
   "source": [
    "val orders = Source.fromFile(ordersPath).\n",
    "    getLines"
   ]
  },
  {
   "cell_type": "markdown",
   "metadata": {},
   "source": [
    "* Get all unique order statuses. Make sure data is sorted in alphabetical order."
   ]
  },
  {
   "cell_type": "code",
   "execution_count": 46,
   "metadata": {},
   "outputs": [
    {
     "name": "stdout",
     "output_type": "stream",
     "text": [
      "CANCELED\n",
      "CLOSED\n",
      "COMPLETE\n",
      "ON_HOLD\n",
      "PAYMENT_REVIEW\n",
      "PENDING\n",
      "PENDING_PAYMENT\n",
      "PROCESSING\n",
      "SUSPECTED_FRAUD\n"
     ]
    },
    {
     "data": {
      "text/plain": [
       "ordersPath = /data/retail_db/orders/part-00000\n",
       "orders = empty iterator\n"
      ]
     },
     "metadata": {},
     "output_type": "display_data",
     "source": "user"
    },
    {
     "data": {
      "text/plain": [
       "empty iterator"
      ]
     },
     "execution_count": 46,
     "metadata": {},
     "output_type": "execute_result"
    }
   ],
   "source": [
    "val ordersPath = \"/data/retail_db/orders/part-00000\"\n",
    "\n",
    "import scala.io.Source\n",
    "val orders = Source.fromFile(ordersPath).\n",
    "    getLines\n",
    "\n",
    "orders.\n",
    "    map(order => order.split(\",\")(3)).\n",
    "    toSet.\n",
    "    toList.\n",
    "    sorted.\n",
    "    foreach(println)"
   ]
  },
  {
   "cell_type": "markdown",
   "metadata": {},
   "source": [
    "* Get count of all unique dates."
   ]
  },
  {
   "cell_type": "code",
   "execution_count": 40,
   "metadata": {},
   "outputs": [
    {
     "data": {
      "text/plain": [
       "ordersPath = /data/retail_db/orders/part-00000\n",
       "orders = empty iterator\n"
      ]
     },
     "metadata": {},
     "output_type": "display_data",
     "source": "user"
    },
    {
     "data": {
      "text/plain": [
       "List(2013-07-25 00:00:00.0, 2013-07-26 00:00:00.0, 2013-07-27 00:00:00.0, 2013-07-28 00:00:00.0, 2013-07-29 00:00:00.0, 2013-07-30 00:00:00.0, 2013-07-31 00:00:00.0, 2013-08-01 00:00:00.0, 2013-08-02 00:00:00.0, 2013-08-03 00:00:00.0, 2013-08-04 00:00:00.0, 2013-08-05 00:00:00.0, 2013-08-06 00:00:00.0, 2013-08-07 00:00:00.0, 2013-08-08 00:00:00.0, 2013-08-09 00:00:00.0, 2013-08-10 00:00:00.0, 2013-08-11 00:00:00.0, 2013-08-12 00:00:00.0, 2013-08-13 00:00:00.0, 2013-08-14 00:00:00.0, 2013-08-15 00:00:00.0, 2013-08-16 00:00:00.0, 2013-08-17 00:00:00.0, 2013-08-18 00:00:00.0, 2013-08-19 00:00:00.0, 2013-08-20 00:00:00.0, 2013-08-21 00:00:00.0, 2013-0..."
      ]
     },
     "execution_count": 40,
     "metadata": {},
     "output_type": "execute_result"
    }
   ],
   "source": [
    "val ordersPath = \"/data/retail_db/orders/part-00000\"\n",
    "\n",
    "import scala.io.Source\n",
    "val orders = Source.fromFile(ordersPath).\n",
    "    getLines\n",
    "\n",
    "orders.\n",
    "    map(order => order.split(\",\")(1)).\n",
    "    toSet.\n",
    "    toList.\n",
    "    sorted"
   ]
  },
  {
   "cell_type": "markdown",
   "metadata": {},
   "source": [
    "* Sort the data in orders in ascending order by order_customer_id and then order_date."
   ]
  },
  {
   "cell_type": "code",
   "execution_count": 41,
   "metadata": {},
   "outputs": [
    {
     "name": "stdout",
     "output_type": "stream",
     "text": [
      "22945,2013-12-13 00:00:00.0,1,COMPLETE\n",
      "57963,2013-08-02 00:00:00.0,2,ON_HOLD\n",
      "15192,2013-10-29 00:00:00.0,2,PENDING_PAYMENT\n",
      "67863,2013-11-30 00:00:00.0,2,COMPLETE\n",
      "33865,2014-02-18 00:00:00.0,2,COMPLETE\n",
      "22646,2013-12-11 00:00:00.0,3,COMPLETE\n",
      "61453,2013-12-14 00:00:00.0,3,COMPLETE\n",
      "23662,2013-12-19 00:00:00.0,3,COMPLETE\n",
      "35158,2014-02-26 00:00:00.0,3,COMPLETE\n",
      "46399,2014-05-09 00:00:00.0,3,PROCESSING\n",
      "56178,2014-07-15 00:00:00.0,3,PENDING\n",
      "57617,2014-07-24 00:00:00.0,3,COMPLETE\n",
      "9023,2013-09-19 00:00:00.0,4,COMPLETE\n",
      "9704,2013-09-24 00:00:00.0,4,COMPLETE\n",
      "17253,2013-11-09 00:00:00.0,4,PENDING_PAYMENT\n",
      "37878,2014-03-15 00:00:00.0,4,COMPLETE\n",
      "49339,2014-05-28 00:00:00.0,4,COMPLETE\n",
      "51157,2014-06-10 00:00:00.0,4,CLOSED\n",
      "13705,2013-10-18 00:00:00.0,5,COMPLETE\n",
      "36472,2014-03-06 00:00:00.0,5,PROCESSING\n"
     ]
    },
    {
     "data": {
      "text/plain": [
       "ordersPath = /data/retail_db/orders/part-00000\n",
       "orders = empty iterator\n"
      ]
     },
     "metadata": {},
     "output_type": "display_data",
     "source": "user"
    },
    {
     "data": {
      "text/plain": [
       "empty iterator"
      ]
     },
     "execution_count": 41,
     "metadata": {},
     "output_type": "execute_result"
    }
   ],
   "source": [
    "val ordersPath = \"/data/retail_db/orders/part-00000\"\n",
    "\n",
    "import scala.io.Source\n",
    "val orders = Source.fromFile(ordersPath).\n",
    "    getLines\n",
    "\n",
    "orders.\n",
    "    toList.\n",
    "    sortBy(k => {\n",
    "        val a = k.split(\",\")\n",
    "        (a(2).toInt, a(1))\n",
    "    }).\n",
    "    take(20).\n",
    "    foreach(println)"
   ]
  },
  {
   "cell_type": "markdown",
   "metadata": {},
   "source": [
    "* Create a collection of order_items by reading data from a file."
   ]
  },
  {
   "cell_type": "code",
   "execution_count": 39,
   "metadata": {},
   "outputs": [
    {
     "name": "stdout",
     "output_type": "stream",
     "text": [
      "1,1,957,1,299.98,299.98\n",
      "2,2,1073,1,199.99,199.99\n",
      "3,2,502,5,250.0,50.0\n",
      "4,2,403,1,129.99,129.99\n",
      "5,4,897,2,49.98,24.99\n",
      "6,4,365,5,299.95,59.99\n",
      "7,4,502,3,150.0,50.0\n",
      "8,4,1014,4,199.92,49.98\n",
      "9,5,957,1,299.98,299.98\n",
      "10,5,365,5,299.95,59.99\n"
     ]
    },
    {
     "data": {
      "text/plain": [
       "orderItemsPath = /data/retail_db/order_items/part-00000\n",
       "orderItems = List(1,1,957,1,299.98,299.98, 2,2,1073,1,199.99,199.99, 3,2,502,5,250.0,50.0, 4,2,403,1,129.99,129.99, 5,4,897,2,49.98,24.99, 6,4,365,5,299.95,59.99, 7,4,502,3,150.0,50.0, 8,4,1014,4,199.92,49.98, 9,5,957,1,299.98,299.98, 10,5,365,5,299.95,59.99, 11,5,1014,2,99.96,49.98, 12,5,957,1,299.98,299.98, 13,5,403,1,129.99,129.99, 14,7,1073,1,199.99,199.99, 15,7,957,1,299.98,299.98, 16,7,926,5,79.95,15.99, 17,8,365,3,179.97,59.99, 18,8,365,5,299.95,59.99, 19,8,1014,4,199.92,49.98, 20,8,502,1,50.0,50.0, 21,9,191,2,199.98,99.99, 22,9,1073,1,199.99,199.99, 23,9,1073,1,199.99,199.99, 24,10,1073,1,199.99,199.99, 25,10,1014,2,99.96,49.98, 26,10,403,1,129.99,129.99, 27,10,917,1,21.99,21.99,...\n"
      ]
     },
     "metadata": {},
     "output_type": "display_data",
     "source": "user"
    },
    {
     "data": {
      "text/plain": [
       "List(1,1,957,1,299.98,299.98, 2,2,1073,1,199.99,199.99, 3,2,502,5,250.0,50.0, 4,2,403,1,129.99,129.99, 5,4,897,2,49.98,24.99, 6,4,365,5,299.95,59.99, 7,4,502,3,150.0,50.0, 8,4,1014,4,199.92,49.98, 9,5,957,1,299.98,299.98, 10,5,365,5,299.95,59.99, 11,5,1014,2,99.96,49.98, 12,5,957,1,299.98,299.98, 13,5,403,1,129.99,129.99, 14,7,1073,1,199.99,199.99, 15,7,957,1,299.98,299.98, 16,7,926,5,79.95,15.99, 17,8,365,3,179.97,59.99, 18,8,365,5,299.95,59.99, 19,8,1014,4,199.92,49.98, 20,8,502,1,50.0,50.0, 21,9,191,2,199.98,99.99, 22,9,1073,1,199.99,199.99, 23,9,1073,1,199.99,199.99, 24,10,1073,1,199.99,199.99, 25,10,1014,2,99.96,49.98, 26,10,403,1,129.99,129.99, 27,10,917,1,21.99,21.99,..."
      ]
     },
     "execution_count": 39,
     "metadata": {},
     "output_type": "execute_result"
    }
   ],
   "source": [
    "val orderItemsPath = \"/data/retail_db/order_items/part-00000\"\n",
    "\n",
    "import scala.io.Source\n",
    "val orderItems = Source.fromFile(orderItemsPath).\n",
    "    getLines.\n",
    "    toList\n",
    "orderItems.take(10).foreach(println)"
   ]
  },
  {
   "cell_type": "markdown",
   "metadata": {},
   "source": [
    "* Get revenue for a given order_item_order_id."
   ]
  },
  {
   "cell_type": "code",
   "execution_count": 55,
   "metadata": {},
   "outputs": [
    {
     "data": {
      "text/plain": [
       "getOrderRevenue: (orderItems: List[String], orderId: Int)Float\n"
      ]
     },
     "metadata": {},
     "output_type": "display_data",
     "source": "user"
    }
   ],
   "source": [
    "def getOrderRevenue(orderItems: List[String], orderId: Int) = {   \n",
    "    val orderItemsFiltered = orderItems.\n",
    "        filter(orderItem => orderItem.split(\",\")(1).toInt == orderId)\n",
    "    val orderItemsMap = orderItemsFiltered.\n",
    "        map(orderItem => orderItem.split(\",\")(4).toFloat)\n",
    "    orderItemsMap.sum\n",
    "}"
   ]
  },
  {
   "cell_type": "code",
   "execution_count": 56,
   "metadata": {},
   "outputs": [
    {
     "data": {
      "text/plain": [
       "orderItemsPath = /data/retail_db/order_items/part-00000\n",
       "orderItems = List(1,1,957,1,299.98,299.98, 2,2,1073,1,199.99,199.99, 3,2,502,5,250.0,50.0, 4,2,403,1,129.99,129.99, 5,4,897,2,49.98,24.99, 6,4,365,5,299.95,59.99, 7,4,502,3,150.0,50.0, 8,4,1014,4,199.92,49.98, 9,5,957,1,299.98,299.98, 10,5,365,5,299.95,59.99, 11,5,1014,2,99.96,49.98, 12,5,957,1,299.98,299.98, 13,5,403,1,129.99,129.99, 14,7,1073,1,199.99,199.99, 15,7,957,1,299.98,299.98, 16,7,926,5,79.95,15.99, 17,8,365,3,179.97,59.99, 18,8,365,5,299.95,59.99, 19,8,1014,4,199.92,49.98, 20,8,502,1,50.0,50.0, 21,9,191,2,199.98,99.99, 22,9,1073,1,199.99,199.99, 23,9,1073,1,199.99,199.99, 24,10,1073,1,199.99,199.99, 25,10,1014,2,99.96,49.98, 26,10,403,1,129.99,129.99, 27,10,917,1,21.99,21.99,...\n"
      ]
     },
     "metadata": {},
     "output_type": "display_data",
     "source": "user"
    },
    {
     "data": {
      "text/plain": [
       "List(1,1,957,1,299.98,299.98, 2,2,1073,1,199.99,199.99, 3,2,502,5,250.0,50.0, 4,2,403,1,129.99,129.99, 5,4,897,2,49.98,24.99, 6,4,365,5,299.95,59.99, 7,4,502,3,150.0,50.0, 8,4,1014,4,199.92,49.98, 9,5,957,1,299.98,299.98, 10,5,365,5,299.95,59.99, 11,5,1014,2,99.96,49.98, 12,5,957,1,299.98,299.98, 13,5,403,1,129.99,129.99, 14,7,1073,1,199.99,199.99, 15,7,957,1,299.98,299.98, 16,7,926,5,79.95,15.99, 17,8,365,3,179.97,59.99, 18,8,365,5,299.95,59.99, 19,8,1014,4,199.92,49.98, 20,8,502,1,50.0,50.0, 21,9,191,2,199.98,99.99, 22,9,1073,1,199.99,199.99, 23,9,1073,1,199.99,199.99, 24,10,1073,1,199.99,199.99, 25,10,1014,2,99.96,49.98, 26,10,403,1,129.99,129.99, 27,10,917,1,21.99,21.99,..."
      ]
     },
     "execution_count": 56,
     "metadata": {},
     "output_type": "execute_result"
    }
   ],
   "source": [
    "val orderItemsPath = \"/data/retail_db/order_items/part-00000\"\n",
    "\n",
    "import scala.io.Source\n",
    "val orderItems = Source.fromFile(orderItemsPath).\n",
    "    getLines.\n",
    "    toList"
   ]
  },
  {
   "cell_type": "code",
   "execution_count": 57,
   "metadata": {},
   "outputs": [
    {
     "name": "stdout",
     "output_type": "stream",
     "text": [
      "579.98"
     ]
    }
   ],
   "source": [
    "print(getOrderRevenue(orderItems, 2))"
   ]
  },
  {
   "cell_type": "markdown",
   "metadata": {},
   "source": [
    "## Development Life Cycle\n",
    "\n",
    "Let us understand the development life cycle. We typically use IDEs such as PyCharm to develop Python based applications.\n",
    "\n",
    "* Create Project - retail\n",
    "* Choose the interpreter 3.x\n",
    "* Make sure plugins such as pandas are installed.\n",
    "* Create config.py script for externalizing run time parameters such as input path, output path etc.\n",
    "* Create app folder for the source code."
   ]
  },
  {
   "cell_type": "markdown",
   "metadata": {},
   "source": [
    "### Tasks\n",
    "\n",
    "Let us develop a simple application to understand end to end development life cycle.\n",
    "\n",
    "* Read the data from order_items\n",
    "* Get revenue for each order id\n",
    "* Save the output which contain order id and revenue to a file.\n",
    "\n",
    "Click [here](https://github.com/dgadiraju/python-retail/tree/v1.0) for the complete code for the above tasks."
   ]
  },
  {
   "cell_type": "markdown",
   "metadata": {},
   "source": [
    "## Exercises\n",
    "\n",
    "Let us perform few exercises to understand how to process the data. We will use LinkedIn data to perform some basic data processing using Python.\n",
    "\n",
    "* Get LinkedIn archive.\n",
    "  * Go to https://linkedin.com\n",
    "  * Me on top -> Settings & Privacy\n",
    "  * Then go to \"How LinkedIn users your data\" -> Getting a copy of your data\n",
    "  * Register and download. You will get a link as part of the email.\n",
    "* Data contain multiple CSV files. We will limit the analysis to **Contacts.csv** and **Connections.csv**.\n",
    "* Get the number of **contacts** with out email ids.\n",
    "* Get the number of **contacts** from each source.\n",
    "* Get the number of **connections** with each title.\n",
    "* Get the number of **connections** from each company.\n",
    "* Get the number of **contacts** for each month in the year 2018.\n",
    "* Use Postgres or MySQL as databases (you can setup in your laptop) and write connections data to the database"
   ]
  },
  {
   "cell_type": "code",
   "execution_count": null,
   "metadata": {},
   "outputs": [],
   "source": []
  }
 ],
 "metadata": {
  "kernelspec": {
   "display_name": "Apache Toree - Scala",
   "language": "scala",
   "name": "apache_toree_scala"
  },
  "language_info": {
   "codemirror_mode": "text/x-scala",
   "file_extension": ".scala",
   "mimetype": "text/x-scala",
   "name": "scala",
   "pygments_lexer": "scala",
   "version": "2.11.12"
  },
  "pycharm": {
   "stem_cell": {
    "cell_type": "raw",
    "metadata": {
     "collapsed": false
    },
    "source": []
   }
  }
 },
 "nbformat": 4,
 "nbformat_minor": 4
}
